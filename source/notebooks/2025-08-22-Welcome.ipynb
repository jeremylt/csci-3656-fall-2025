{
 "cells": [
  {
   "cell_type": "markdown",
   "id": "03adb8b5-2e3f-4266-870d-9a299fb70bf2",
   "metadata": {},
   "source": [
    "# CSCI 3656 Numerical Computation\n",
    "\n",
    "Prof [Jeremy L Thompson](https://jeremylt.org>) (he/they)\n",
    "\n",
    "* Course Website: https://jeremylt.github.io/csci-3656-fall-2025\n",
    "\n",
    "* Course Textbook: https://tobydriscoll.net/fnc-julia\n",
    "\n",
    "* Course Zulip: https://csci-2656-fall-2025.zulipchat.com/join/xy6eaczbthno4su3sa2c6qhw"
   ]
  },
  {
   "cell_type": "code",
   "execution_count": null,
   "id": "d0027aaa-2367-46b8-8389-4af86546e8ad",
   "metadata": {},
   "outputs": [],
   "source": []
  }
 ],
 "metadata": {
  "kernelspec": {
   "display_name": "Julia 1.11.4",
   "language": "julia",
   "name": "julia-1.11"
  },
  "language_info": {
   "file_extension": ".jl",
   "mimetype": "application/julia",
   "name": "julia",
   "version": "1.11.4"
  }
 },
 "nbformat": 4,
 "nbformat_minor": 5
}
